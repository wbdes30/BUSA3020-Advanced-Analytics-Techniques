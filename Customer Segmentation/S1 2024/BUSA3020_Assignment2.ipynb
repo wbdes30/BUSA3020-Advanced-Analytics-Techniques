{
 "cells": [
  {
   "cell_type": "markdown",
   "metadata": {},
   "source": [
    "# BUSA3020 Programming Task 2  \n",
    "\n",
    "**Assignment Points**: 100    \n",
    "**Due Date**: Friday of Week 11 (17 May 2024) at 11:59pm   \n",
    "\n",
    "\n"
   ]
  },
  {
   "cell_type": "markdown",
   "metadata": {},
   "source": [
    "---\n",
    "\n",
    "## About This Assignment\n",
    "Customer segmentation is the process of dividing customers into groups based on common characteristics so companies can market to each group effectively and appropriately. It can be employed by all types of business, regardless of size, industry and whether they sell online or in person. For example, a small business selling guitars might decide to promote lower-priced products to younger guitarists and higher-priced premium guitars to older musicians based on segment knowledge which tells them that younger musicians have less disposable income than their older counterparts.  \n",
    "\n",
    "<hr style=\"width:35%;margin-left:0;\"> \n",
    "\n",
    "## Task\n",
    "You are employed by a large supermarket chain to perform customer segmentation analysis. In particular, you are provided with a dataset on 4,000 customers that has been collected through loyalty cards that customers use at checkout, and includes variables such as customer age, gender, annual income, etc. \n",
    "\n",
    "Your task is to analyse the data in Python using relevant techniques covered in lectures, and identify customer segments given the dataset. You will then collect your results in tables and diagrams which you will include in a report of **up to 1000 words** (not counting tables and figures). Make sure your report is informative, intuitive, and easily understandable for management, who might not possess a technical background.\n",
    "\n",
    "Your report should include the following headings:\n",
    "\n",
    "1. **Word count** \n",
    "    - Include the word count of your report file\n",
    "2. **Introduction** (10 marks)\n",
    "    - Briefly discuss the problem, how you are going to address it, and data\n",
    "3. **Exploratory Data Analysis** (20 marks)\n",
    "    - Perform basic exploratory data analysis, present and comment key summary statistics, etc.\n",
    "    - Provide charts (e.g. histograms, pie charts) where appropriate\n",
    "4. **Customer Segmentation** (40 marks)\n",
    "    - Note: Standarise the two numeric variables using `StandardScalar`\n",
    "    - Choose the optimal number of customer segments/clusters using the Elbow Method and 3 appropriately chosen Silhouette Plots (base your decision on average Silhouette coefficients)\n",
    "    - After having identified the optimal number of clusters, estimate the clusters using both K-means++ and Agglomerative Clustering\n",
    "    - Provide tables presenting the cluster centers (all 7 variables) and customer counts for both clustering techniques  \n",
    "    - Interpret each of the identified clusters (for both clustering techniques) in terms of customer attributes, i.e. profile the clients in each cluster \n",
    "        - E.g. there may be a cluster of university educated females living in a mid-sized city\n",
    "    - Compare the customer segments identified by the two techniques (do any clusters overlap?)\n",
    "5. **Recommendations** (20 marks)\n",
    "    - Suggest marketing strategies and techniques that could be used to target customer segements you identified using the K-means++ method \n",
    "6. **Conclusion** (10 marks)\n",
    "    - A brief summary of what you have done in the report \n",
    "    \n",
    "\n",
    "---\n",
    "---\n"
   ]
  },
  {
   "cell_type": "markdown",
   "metadata": {},
   "source": [
    "## Submission   \n",
    "You will need to submit two files:   \n",
    "\n",
    "1. A PDF document containing your report for company management submission. Ensure it's comprehensive, including all pertinent tables and graphs generated from the Jupyter notebook you've submitted. I suggest drafting the report in Word and then converting it to PDF for submission.\n",
    "2. Your Jupyter Notebook containing the Python code used in your analysis. Ensure that your code is well-organized, easy to understand, and capable of generating all the outputs included in the report."
   ]
  },
  {
   "cell_type": "markdown",
   "metadata": {},
   "source": [
    "## Marking Criteria\n",
    "\n",
    "- To receive full marks your solutions must satisfy the following criteria:\n",
    "    - Provide numerically correct answers;\n",
    "    - Use Python methods and libraries covered in lectures;\n",
    "    - Do not include irrelevant material in the report (that you do not discuss);\n",
    "    - When including tables and charts label them properly;\n",
    "    - Each included table and chart you include in the report needs to be discussed in text;\n",
    "    - The report is to be read by marketing managers who may not have the expertise to understand technical terms; \n",
    "        - It should be written in clear and easy to understand sentences.\n",
    "    - Report must contain the word count\n",
    "    - See Marking Rubric file for details\n"
   ]
  }
 ],
 "metadata": {
  "kernelspec": {
   "display_name": "Python 3 (ipykernel)",
   "language": "python",
   "name": "python3"
  },
  "language_info": {
   "codemirror_mode": {
    "name": "ipython",
    "version": 3
   },
   "file_extension": ".py",
   "mimetype": "text/x-python",
   "name": "python",
   "nbconvert_exporter": "python",
   "pygments_lexer": "ipython3",
   "version": "3.11.3"
  }
 },
 "nbformat": 4,
 "nbformat_minor": 4
}
